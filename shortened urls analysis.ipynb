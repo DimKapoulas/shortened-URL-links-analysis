{
 "cells": [
  {
   "cell_type": "markdown",
   "metadata": {},
   "source": [
    "## 1. USA.gov Data from Bitly\n",
    "\n",
    "<p><a href=\"https://bitly.com/\">Bitly</a> is URL shortening service. Back in 2011 they partenered with the US government to provide a feedback of anonymous data gathered from users who shorten links ending with .gov or .mil</p>\n",
    "<p>\n",
    "    <img src=\"https://docrdsfx76ssb.cloudfront.net/static/1599081456/pages/wp-content/uploads/2020/05/illo-mobile-810x480-1.jpg\">\n",
    "    <p> Here we are going to make a simple exploration of this dataset accompanied with visualisations of cases like <em><strong>How many of these users are using windows machines?</strong></em> and <em><strong>From which timezones?</strong></em> etc etc.</p>\n",
    "    <p>So let's start by importing the related JSON data and see what we can do towards manipulate it properly</p>"
   ]
  },
  {
   "cell_type": "code",
   "execution_count": 1,
   "metadata": {},
   "outputs": [
    {
     "name": "stdout",
     "output_type": "stream",
     "text": [
      "Number of records:  3560\n"
     ]
    },
    {
     "data": {
      "text/plain": [
       "[{'a': 'Mozilla/5.0 (Windows NT 6.1; WOW64) AppleWebKit/535.11 (KHTML, like Gecko) Chrome/17.0.963.78 Safari/535.11',\n",
       "  'c': 'US',\n",
       "  'nk': 1,\n",
       "  'tz': 'America/New_York',\n",
       "  'gr': 'MA',\n",
       "  'g': 'A6qOVH',\n",
       "  'h': 'wfLQtf',\n",
       "  'l': 'orofrog',\n",
       "  'al': 'en-US,en;q=0.8',\n",
       "  'hh': '1.usa.gov',\n",
       "  'r': 'http://www.facebook.com/l/7AQEFzjSi/1.usa.gov/wfLQtf',\n",
       "  'u': 'http://www.ncbi.nlm.nih.gov/pubmed/22415991',\n",
       "  't': 1331923247,\n",
       "  'hc': 1331822918,\n",
       "  'cy': 'Danvers',\n",
       "  'll': [42.576698, -70.954903]},\n",
       " {'a': 'GoogleMaps/RochesterNY',\n",
       "  'c': 'US',\n",
       "  'nk': 0,\n",
       "  'tz': 'America/Denver',\n",
       "  'gr': 'UT',\n",
       "  'g': 'mwszkS',\n",
       "  'h': 'mwszkS',\n",
       "  'l': 'bitly',\n",
       "  'hh': 'j.mp',\n",
       "  'r': 'http://www.AwareMap.com/',\n",
       "  'u': 'http://www.monroecounty.gov/etc/911/rss.php',\n",
       "  't': 1331923249,\n",
       "  'hc': 1308262393,\n",
       "  'cy': 'Provo',\n",
       "  'll': [40.218102, -111.613297]}]"
      ]
     },
     "execution_count": 1,
     "metadata": {},
     "output_type": "execute_result"
    }
   ],
   "source": [
    "import json\n",
    "import warnings\n",
    "\n",
    "# Filter out normal warnings/caveats\n",
    "warnings.filterwarnings('ignore')\n",
    "\n",
    "# Create path to data and import it\n",
    "path = './datasets/bitly_usagov/example.txt'\n",
    "records = [json.loads(line) for line in open(path)]\n",
    "\n",
    "\n",
    "print('Number of records: ', len(records))\n",
    "records[0:2]"
   ]
  },
  {
   "cell_type": "markdown",
   "metadata": {},
   "source": [
    "## 2. Some Timezone proccessing\n",
    "<p>At first the previous output might look a bit messy but thing we will become more clear as we procceed.</p>\n",
    "<p> Let's say we are interested in in finding the most often-occuring time zones in the dataset (namely the <code>tz</code> field). One of many ways to achieve this is to extract a list of time zones and compute the frequency of them.</p>\n",
    "<p>One point of interest is that we printed the full output of the records, one can notice that not all data points contain a <code>tz</code> field so we have to opt out these ones. This is all done in a following list comprehension.</p>"
   ]
  },
  {
   "cell_type": "code",
   "execution_count": 2,
   "metadata": {},
   "outputs": [
    {
     "name": "stdout",
     "output_type": "stream",
     "text": [
      "The number of entries containg a tz field is: 3440\n",
      "['America/New_York', 'America/Denver', 'America/New_York', 'America/Sao_Paulo', 'America/New_York', 'America/New_York', 'Europe/Warsaw', '', '', '']\n"
     ]
    }
   ],
   "source": [
    "# Create a list from only the entries containing tz field\n",
    "time_zones = [rec['tz'] for rec in records if 'tz' in rec]\n",
    "\n",
    "print('The number of entries containg a tz field is:', len(time_zones))\n",
    "print(time_zones[:10])"
   ]
  },
  {
   "cell_type": "markdown",
   "metadata": {},
   "source": [
    "## 3. Understanding Timezone output\n",
    "<p>Out of the initial 3560 records, 3440 do contain a <code>tz</code> field. Another insight that just came up is that even among the ones that contain a timezone, some a considered as unknown (the ' ' empty string).</p>\n",
    "<p>Now we will create a dictionary to count and store the number of each timezone. This will be done by using the <code>defaultdict</code> from the <code>collections</code> module so we don't have to explicit hardcode what to do with the default cases and init values. For reusability purposes we will implement this into a function that makes general counting.</p>"
   ]
  },
  {
   "cell_type": "code",
   "execution_count": 3,
   "metadata": {},
   "outputs": [
    {
     "name": "stdout",
     "output_type": "stream",
     "text": [
      "Number of New_York tz appearing:  1251\n",
      "With a percetange of: 36.37 %\n"
     ]
    }
   ],
   "source": [
    "from collections import defaultdict\n",
    "\n",
    "def get_counts(sequence):\n",
    "    '''Create a general counting function over a user provided sequence'''\n",
    "    \n",
    "    # Initialize values to 0\n",
    "    counts = defaultdict(int)\n",
    "    for x in sequence:\n",
    "        counts[x] += 1\n",
    "    return counts\n",
    "\n",
    "\n",
    "# Count timezones. Print number and percentage of 'America/New_York' tz\n",
    "counts = get_counts(time_zones)\n",
    "print('Number of New_York tz appearing: ', counts['America/New_York'])\n",
    "\n",
    "ny_prc = counts['America/New_York'] / len(time_zones)* 100\n",
    "print('With a percetange of: {:.2f} %'.format(ny_prc))\n"
   ]
  },
  {
   "cell_type": "markdown",
   "metadata": {},
   "source": [
    "## 4. Top 10 timezones\n",
    "<p>Ok we see that <code>America/New_York</code> timezones occupies a decent 36.37% of the total time zone entries. Nothing less expected from the one the busiest cities in the world!But <em><strong>how about the top 10 timezones?</strong></em> Traditionally this can be achieved with something like <code>[(count, tz) for tz, count in count_dict.items()]</code> or more efficiently with <code>Counter</code> from <code>collections</code>. </p>\n",
    "<hr>\n",
    "<p> In contrast to the above mentioned implementations here we are going take a step back and create a dataframe. This could be done ealrier but for demonastration purposes we showed how to do a first naive approach of exploring the json data. Working with dataframes (whenever prossible) is preferred because it is a more systematic way which provide us with further tools for analytics, visualization etc.</p>"
   ]
  },
  {
   "cell_type": "code",
   "execution_count": 4,
   "metadata": {},
   "outputs": [
    {
     "name": "stdout",
     "output_type": "stream",
     "text": [
      "<class 'pandas.core.frame.DataFrame'>\n",
      "RangeIndex: 3560 entries, 0 to 3559\n",
      "Data columns (total 18 columns):\n",
      " #   Column       Non-Null Count  Dtype  \n",
      "---  ------       --------------  -----  \n",
      " 0   a            3440 non-null   object \n",
      " 1   c            2919 non-null   object \n",
      " 2   nk           3440 non-null   float64\n",
      " 3   tz           3440 non-null   object \n",
      " 4   gr           2919 non-null   object \n",
      " 5   g            3440 non-null   object \n",
      " 6   h            3440 non-null   object \n",
      " 7   l            3440 non-null   object \n",
      " 8   al           3094 non-null   object \n",
      " 9   hh           3440 non-null   object \n",
      " 10  r            3440 non-null   object \n",
      " 11  u            3440 non-null   object \n",
      " 12  t            3440 non-null   float64\n",
      " 13  hc           3440 non-null   float64\n",
      " 14  cy           2919 non-null   object \n",
      " 15  ll           2919 non-null   object \n",
      " 16  _heartbeat_  120 non-null    float64\n",
      " 17  kw           93 non-null     object \n",
      "dtypes: float64(4), object(14)\n",
      "memory usage: 500.8+ KB\n",
      "None\n",
      "\n",
      "Top 10 of tz:\n",
      "America/New_York       1251\n",
      "                        521\n",
      "America/Chicago         400\n",
      "America/Los_Angeles     382\n",
      "America/Denver          191\n",
      "Europe/London            74\n",
      "Asia/Tokyo               37\n",
      "Pacific/Honolulu         36\n",
      "Europe/Madrid            35\n",
      "America/Sao_Paulo        33\n",
      "Name: tz, dtype: int64\n"
     ]
    }
   ],
   "source": [
    "import pandas as pd\n",
    "\n",
    "# Create dataframe. Print its general info\n",
    "frame = pd.DataFrame(records)\n",
    "print(frame.info())\n",
    "\n",
    "# Count unique values, this is in descending order by default. Print the first 10\n",
    "tz_counts = frame['tz'].value_counts()\n",
    "print(\"\\nTop 10 of tz:\")\n",
    "print(tz_counts[:10])\n"
   ]
  },
  {
   "cell_type": "markdown",
   "metadata": {},
   "source": [
    "## 5. Visualizing Timezones\n",
    "<p> We see that runner up for  the\"10 most common timezones\" is the 'unknown category'. We will now make a visual representation of the previous output, because visualizations is a great tool for <strong>E</strong>xploratory <strong>D</strong>ata <strong>A</strong>nalysis (<strong>EDA</strong>), but first we have to make a clean up of the 'uknown values'</p>\n",
    "<p>Since the uknown values are not <code>NaN</code> values and they do occupy a decent percentage (\"2nd position\") of the  data in discussion, we can't just put them aside. Instead we are going to give them a name (something like 'missing') that makes more sense in the context of visualization.</p>"
   ]
  },
  {
   "cell_type": "code",
   "execution_count": 5,
   "metadata": {
    "scrolled": true
   },
   "outputs": [
    {
     "data": {
      "text/plain": [
       "<AxesSubplot:>"
      ]
     },
     "execution_count": 5,
     "metadata": {},
     "output_type": "execute_result"
    },
    {
     "data": {
      "image/png": "[encoded data removed]",
      "text/plain": [
       "<Figure size 432x288 with 1 Axes>"
      ]
     },
     "metadata": {},
     "output_type": "display_data"
    }
   ],
   "source": [
    "import seaborn as sns\n",
    "\n",
    "sns.set_style('darkgrid')\n",
    "\n",
    "# Make a series form timezones. Rename missing values into 'Unknown'\n",
    "clean_tz = frame['tz'].fillna('Missing')\n",
    "clean_tz[clean_tz == ''] = 'Unknown'\n",
    "\n",
    "# Again extract values, find top10 and plot them\n",
    "tz_counts = clean_tz.value_counts()\n",
    "subset = tz_counts[:10]\n",
    "sns.barplot(x=subset.values, y=subset.index)"
   ]
  },
  {
   "cell_type": "markdown",
   "metadata": {},
   "source": [
    "## 6. Investigate device usage\n",
    "<p>So now we have an insightful and easy to understand picture of \"where\" the users were located at the time when the shortening took place.</p>\n",
    "    <p>Can we make further exploration? The answer is yes, either in the context of isolating another parameter and make a viz out of it or either by comparing  parameters.Here, we are going both!\n",
    "<hr>\n",
    "    <p>Firstly we will make a summary of the user behavior. The <code>a</code> field contains information about browser, device or application used to perform the URL shortening. In our case we can achieve this by simply trying to split off the first token in the string (= browser capability), avoiding the usage of regular expressions. For demonstration simplicity we will assume that a user uses windows if the string <code>'Windows'</code> is in the string being parsed, otherwise is a <code>not Windows</code> case (without caring which specific alternative it is).</p>\n",
    "    <p>Afterwards, given our previous time zone info/visualization, we will try to decompose the top time zones into Windows and non-Windows user. We will exclude all unknown sources to produce a clean result.</p>"
   ]
  },
  {
   "cell_type": "code",
   "execution_count": 6,
   "metadata": {
    "scrolled": false
   },
   "outputs": [
    {
     "name": "stdout",
     "output_type": "stream",
     "text": [
      "Mozilla/5.0               2594\n",
      "Mozilla/4.0                601\n",
      "GoogleMaps/RochesterNY     121\n",
      "Opera/9.80                  34\n",
      "TEST_INTERNET_AGENT         24\n",
      "dtype: int64\n"
     ]
    },
    {
     "data": {
      "text/html": [
       "<div>\n",
       "<style scoped>\n",
       "    .dataframe tbody tr th:only-of-type {\n",
       "        vertical-align: middle;\n",
       "    }\n",
       "\n",
       "    .dataframe tbody tr th {\n",
       "        vertical-align: top;\n",
       "    }\n",
       "\n",
       "    .dataframe thead th {\n",
       "        text-align: right;\n",
       "    }\n",
       "</style>\n",
       "<table border=\"1\" class=\"dataframe\">\n",
       "  <thead>\n",
       "    <tr style=\"text-align: right;\">\n",
       "      <th>os</th>\n",
       "      <th>Not Windows</th>\n",
       "      <th>Windows</th>\n",
       "    </tr>\n",
       "    <tr>\n",
       "      <th>tz</th>\n",
       "      <th></th>\n",
       "      <th></th>\n",
       "    </tr>\n",
       "  </thead>\n",
       "  <tbody>\n",
       "    <tr>\n",
       "      <th>America/Sao_Paulo</th>\n",
       "      <td>13.0</td>\n",
       "      <td>20.0</td>\n",
       "    </tr>\n",
       "    <tr>\n",
       "      <th>Europe/Madrid</th>\n",
       "      <td>16.0</td>\n",
       "      <td>19.0</td>\n",
       "    </tr>\n",
       "    <tr>\n",
       "      <th>Pacific/Honolulu</th>\n",
       "      <td>0.0</td>\n",
       "      <td>36.0</td>\n",
       "    </tr>\n",
       "    <tr>\n",
       "      <th>Asia/Tokyo</th>\n",
       "      <td>2.0</td>\n",
       "      <td>35.0</td>\n",
       "    </tr>\n",
       "    <tr>\n",
       "      <th>Europe/London</th>\n",
       "      <td>43.0</td>\n",
       "      <td>31.0</td>\n",
       "    </tr>\n",
       "    <tr>\n",
       "      <th>America/Denver</th>\n",
       "      <td>132.0</td>\n",
       "      <td>59.0</td>\n",
       "    </tr>\n",
       "    <tr>\n",
       "      <th>America/Los_Angeles</th>\n",
       "      <td>130.0</td>\n",
       "      <td>252.0</td>\n",
       "    </tr>\n",
       "    <tr>\n",
       "      <th>America/Chicago</th>\n",
       "      <td>115.0</td>\n",
       "      <td>285.0</td>\n",
       "    </tr>\n",
       "    <tr>\n",
       "      <th></th>\n",
       "      <td>245.0</td>\n",
       "      <td>276.0</td>\n",
       "    </tr>\n",
       "    <tr>\n",
       "      <th>America/New_York</th>\n",
       "      <td>339.0</td>\n",
       "      <td>912.0</td>\n",
       "    </tr>\n",
       "  </tbody>\n",
       "</table>\n",
       "</div>"
      ],
      "text/plain": [
       "os                   Not Windows  Windows\n",
       "tz                                       \n",
       "America/Sao_Paulo           13.0     20.0\n",
       "Europe/Madrid               16.0     19.0\n",
       "Pacific/Honolulu             0.0     36.0\n",
       "Asia/Tokyo                   2.0     35.0\n",
       "Europe/London               43.0     31.0\n",
       "America/Denver             132.0     59.0\n",
       "America/Los_Angeles        130.0    252.0\n",
       "America/Chicago            115.0    285.0\n",
       "                           245.0    276.0\n",
       "America/New_York           339.0    912.0"
      ]
     },
     "execution_count": 6,
     "metadata": {},
     "output_type": "execute_result"
    }
   ],
   "source": [
    "import numpy as np\n",
    "\n",
    "# Extract the apps into a series. Then print 8 most used apps\n",
    "results = pd.Series([specs.split()[0] for specs in frame['a'].dropna()])\n",
    "print(results.value_counts()[:5])\n",
    "\n",
    "# Create a \"null free\" frame.\n",
    "cframe = frame[frame['a'].notnull()]\n",
    "\n",
    "# Find if windows operating system (os) were used or not and create columnb\n",
    "os = np.where(cframe['a'].str.contains('Windows'), 'Windows', 'Not Windows')\n",
    "cframe['os'] = os\n",
    "\n",
    "# Group OS data by time zone\n",
    "by_tz_os = cframe.groupby(['tz', 'os'])\n",
    "agg_counts = by_tz_os.size().unstack().fillna(0)\n",
    "\n",
    "# Sort and print top 10 overall time zonessrt_counts['total'] = agg_counts.sum(1).nlargest(10)\n",
    "agg_counts['total'] = agg_counts.sum(1)\n",
    "srt_counts = agg_counts.sort_values(['total'])\n",
    "top10 = srt_counts.iloc[-10:, 0:2]\n",
    "top10\n"
   ]
  },
  {
   "cell_type": "markdown",
   "metadata": {},
   "source": [
    "## 7. Vizualizing time_zone-os data\n",
    "<p>Overall we can notice a prevalence of Windows usage in almost all related timezones. This can be understood more easily by vizualing the previous output so we will make a stacked plot so we can simultaneously see both attributes. </p>\n",
    "<p>Though the <code>seaborn</code> library does not contain a direct stacked bar plot function, this can still be easily done. All we have to do is create a barplot in the same way as before but this time we have to set <code>hue = 'os'</code> in the parameters, so our two attributes will have a different color.</p>"
   ]
  },
  {
   "cell_type": "code",
   "execution_count": 7,
   "metadata": {
    "scrolled": true
   },
   "outputs": [
    {
     "data": {
      "text/plain": [
       "<AxesSubplot:xlabel='total', ylabel='tz'>"
      ]
     },
     "execution_count": 7,
     "metadata": {},
     "output_type": "execute_result"
    },
    {
     "data": {
      "image/png": "[encoded data removed]",
      "text/plain": [
       "<Figure size 432x288 with 1 Axes>"
      ]
     },
     "metadata": {},
     "output_type": "display_data"
    }
   ],
   "source": [
    "# Stack() so both atrributes can be provided to barplot as indexes\n",
    "top10 = top10.stack()\n",
    "top10.name = 'total'\n",
    "top10 = top10.reset_index()\n",
    "\n",
    "# Plot. 'hue' differantiates 'tz' and 'os' by color\n",
    "sns.barplot(y='tz', x='total', hue='os', data=top10)"
   ]
  },
  {
   "cell_type": "markdown",
   "metadata": {},
   "source": [
    "## 8. Normalize data\n",
    "<p>Though the above plot gives a sense that verifies the aforementioned \"Windows  usage prevalence\", we still can't see the percentage of population, for each time zone, upon which this statement holds true.</p>\n",
    "<p>The \"cure\" for this is to normalize  the data to sum to 1 and vizualize the result again. The procedure for this goes as follows:</p>\n",
    "<ul>\n",
    "<li>First we group the data by <em>timezone</em> so we can sum each group's values, which is obtained by using the panda's <code>tranform</code> method.</li>\n",
    "<li>Then we divide each group's value, contained in the the <code>total</code> column, by the group's total sum that we computed in the previous step. This is the normalized total</li>\n",
    "<li>Lastly we provide our normalized total as input for the x axis which is plotted against <code>tz</code> and <code>os</code>.</li>"
   ]
  },
  {
   "cell_type": "code",
   "execution_count": 8,
   "metadata": {},
   "outputs": [
    {
     "data": {
      "text/plain": [
       "<AxesSubplot:xlabel='total', ylabel='tz'>"
      ]
     },
     "execution_count": 8,
     "metadata": {},
     "output_type": "execute_result"
    },
    {
     "data": {
      "image/png": "[encoded data removed]",
      "text/plain": [
       "<Figure size 432x288 with 1 Axes>"
      ]
     },
     "metadata": {},
     "output_type": "display_data"
    }
   ],
   "source": [
    "\n",
    "tz_grp = top10.groupby('tz')\n",
    "normed_total = top10.total / tz_grp.total.transform('sum')\n",
    "\n",
    "sns.barplot(x=normed_total, y='tz', hue='os', data=top10)"
   ]
  },
  {
   "cell_type": "markdown",
   "metadata": {},
   "source": [
    "## 9. Conculsion\n",
    "<p>Now we have more insight about the \"Windows prevalence\". We observe that around 76% of the users with 'New_York' time zone used Windows but this is nothing compared to the devastating percentages in Honolulu and Tokyo. On the other hand London and Denver exhibited some \"anti-Windows\" behaviour, so to speak.</p>\n",
    "<hr>\n",
    "<p>To recap:</p>\n",
    "<ul>\n",
    "<li>We imported our data and we kept the data points that contained a time zone entry.</li>\n",
    "<li>Out of these points we extracted the technology source, excluding missing entries, and plotted them in relation to time zones</li>\n",
    "    <li>Lastly we tranformed the result so we can have a better picture at a \"percentage level\".</li>\n",
    "</ul>\n",
    "<img src=\"https://miro.medium.com/max/830/1*Pdw7h5X6vQQNVopIzHBG6A.jpeg\" width=\"500\">"
   ]
  }
 ],
 "metadata": {
  "kernelspec": {
   "display_name": "maths",
   "language": "python",
   "name": "maths"
  },
  "language_info": {
   "codemirror_mode": {
    "name": "ipython",
    "version": 3
   },
   "file_extension": ".py",
   "mimetype": "text/x-python",
   "name": "python",
   "nbconvert_exporter": "python",
   "pygments_lexer": "ipython3",
   "version": "3.8.2"
  }
 },
 "nbformat": 4,
 "nbformat_minor": 4
}
